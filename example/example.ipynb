{
 "cells": [
  {
   "cell_type": "code",
   "execution_count": 1,
   "id": "88037aa8",
   "metadata": {},
   "outputs": [],
   "source": [
    "from main.fd_violation import fd_violations\n",
    "import pandas as pd"
   ]
  },
  {
   "cell_type": "markdown",
   "id": "df24f2b2",
   "metadata": {},
   "source": [
    "# 簡単なデータ例"
   ]
  },
  {
   "cell_type": "code",
   "execution_count": 2,
   "id": "50804719",
   "metadata": {},
   "outputs": [],
   "source": [
    "df = pd.DataFrame({'a':['A','A','C','D'],\n",
    "                    'b':['AA','BB','CC','DD']})\n",
    "df = df.astype({'a': 'string', 'b': 'string'})\n",
    "groups = fd_violations(df, lhs='a', rhs='b')"
   ]
  },
  {
   "cell_type": "code",
   "execution_count": 3,
   "id": "5979ced8",
   "metadata": {},
   "outputs": [
    {
     "data": {
      "text/plain": [
       "{'A': Counter({'AA': 1, 'BB': 1})}"
      ]
     },
     "execution_count": 3,
     "metadata": {},
     "output_type": "execute_result"
    }
   ],
   "source": [
    "groups"
   ]
  },
  {
   "cell_type": "code",
   "execution_count": 4,
   "id": "a340f805",
   "metadata": {},
   "outputs": [],
   "source": [
    "df = pd.DataFrame({'a':['A','A','A','D'],\n",
    "                    'b':['AA','BB','BB','DD']})\n",
    "df = df.astype({'a': 'string', 'b': 'string'})\n",
    "groups = fd_violations(df, lhs='a', rhs='b')"
   ]
  },
  {
   "cell_type": "code",
   "execution_count": 5,
   "id": "af5a4a2f",
   "metadata": {},
   "outputs": [
    {
     "data": {
      "text/plain": [
       "{'A': Counter({'AA': 1, 'BB': 2})}"
      ]
     },
     "execution_count": 5,
     "metadata": {},
     "output_type": "execute_result"
    }
   ],
   "source": [
    "groups"
   ]
  },
  {
   "cell_type": "markdown",
   "id": "f8fd295f",
   "metadata": {},
   "source": [
    "# opencleanデータによる現実的な例"
   ]
  },
  {
   "cell_type": "markdown",
   "id": "8e749888",
   "metadata": {},
   "source": [
    "元データ: https://github.com/VIDA-NYU/openclean/tree/master/examples/notebooks/data"
   ]
  },
  {
   "cell_type": "code",
   "execution_count": 6,
   "id": "55657c1b",
   "metadata": {},
   "outputs": [],
   "source": [
    "datafile = 'data/jt7v-77mi.tsv'\n",
    "df = pd.read_table(datafile)"
   ]
  },
  {
   "cell_type": "code",
   "execution_count": 7,
   "id": "0ff61d87",
   "metadata": {},
   "outputs": [
    {
     "data": {
      "text/html": [
       "<div>\n",
       "<style scoped>\n",
       "    .dataframe tbody tr th:only-of-type {\n",
       "        vertical-align: middle;\n",
       "    }\n",
       "\n",
       "    .dataframe tbody tr th {\n",
       "        vertical-align: top;\n",
       "    }\n",
       "\n",
       "    .dataframe thead th {\n",
       "        text-align: right;\n",
       "    }\n",
       "</style>\n",
       "<table border=\"1\" class=\"dataframe\">\n",
       "  <thead>\n",
       "    <tr style=\"text-align: right;\">\n",
       "      <th></th>\n",
       "      <th>Summons Number</th>\n",
       "      <th>Plate ID</th>\n",
       "      <th>Registration State</th>\n",
       "      <th>Plate Type</th>\n",
       "      <th>Issue Date</th>\n",
       "      <th>Violation Code</th>\n",
       "      <th>Vehicle Body Type</th>\n",
       "      <th>Vehicle Make</th>\n",
       "      <th>Issuing Agency</th>\n",
       "      <th>Street Code1</th>\n",
       "      <th>...</th>\n",
       "      <th>Vehicle Color</th>\n",
       "      <th>Unregistered Vehicle?</th>\n",
       "      <th>Vehicle Year</th>\n",
       "      <th>Meter Number</th>\n",
       "      <th>Feet From Curb</th>\n",
       "      <th>Violation Post Code</th>\n",
       "      <th>Violation Description</th>\n",
       "      <th>No Standing or Stopping Violation</th>\n",
       "      <th>Hydrant Violation</th>\n",
       "      <th>Double Parking Violation</th>\n",
       "    </tr>\n",
       "  </thead>\n",
       "  <tbody>\n",
       "    <tr>\n",
       "      <th>0</th>\n",
       "      <td>1361929741</td>\n",
       "      <td>FCJ5493</td>\n",
       "      <td>NY</td>\n",
       "      <td>PAS</td>\n",
       "      <td>12/18/1970</td>\n",
       "      <td>20</td>\n",
       "      <td>SUBN</td>\n",
       "      <td>GMC</td>\n",
       "      <td>S</td>\n",
       "      <td>35030</td>\n",
       "      <td>...</td>\n",
       "      <td>BLACK</td>\n",
       "      <td>0.0</td>\n",
       "      <td>2013</td>\n",
       "      <td>-</td>\n",
       "      <td>0</td>\n",
       "      <td>NaN</td>\n",
       "      <td>NaN</td>\n",
       "      <td>NaN</td>\n",
       "      <td>NaN</td>\n",
       "      <td>NaN</td>\n",
       "    </tr>\n",
       "    <tr>\n",
       "      <th>1</th>\n",
       "      <td>1366962000</td>\n",
       "      <td>63540MC</td>\n",
       "      <td>NY</td>\n",
       "      <td>COM</td>\n",
       "      <td>02/02/1971</td>\n",
       "      <td>46</td>\n",
       "      <td>DELV</td>\n",
       "      <td>FRUEH</td>\n",
       "      <td>P</td>\n",
       "      <td>58830</td>\n",
       "      <td>...</td>\n",
       "      <td>BRN</td>\n",
       "      <td>0.0</td>\n",
       "      <td>2013</td>\n",
       "      <td>-</td>\n",
       "      <td>0</td>\n",
       "      <td>NaN</td>\n",
       "      <td>NaN</td>\n",
       "      <td>NaN</td>\n",
       "      <td>NaN</td>\n",
       "      <td>NaN</td>\n",
       "    </tr>\n",
       "    <tr>\n",
       "      <th>2</th>\n",
       "      <td>1342296187</td>\n",
       "      <td>GCY4187</td>\n",
       "      <td>NY</td>\n",
       "      <td>SRF</td>\n",
       "      <td>09/18/1971</td>\n",
       "      <td>21</td>\n",
       "      <td>VAN</td>\n",
       "      <td>FORD</td>\n",
       "      <td>S</td>\n",
       "      <td>11790</td>\n",
       "      <td>...</td>\n",
       "      <td>BLUE</td>\n",
       "      <td>0.0</td>\n",
       "      <td>2002</td>\n",
       "      <td>-</td>\n",
       "      <td>0</td>\n",
       "      <td>NaN</td>\n",
       "      <td>NaN</td>\n",
       "      <td>NaN</td>\n",
       "      <td>NaN</td>\n",
       "      <td>NaN</td>\n",
       "    </tr>\n",
       "    <tr>\n",
       "      <th>3</th>\n",
       "      <td>1342296199</td>\n",
       "      <td>95V6675</td>\n",
       "      <td>TX</td>\n",
       "      <td>PAS</td>\n",
       "      <td>09/18/1971</td>\n",
       "      <td>21</td>\n",
       "      <td>NaN</td>\n",
       "      <td>GMC</td>\n",
       "      <td>S</td>\n",
       "      <td>11790</td>\n",
       "      <td>...</td>\n",
       "      <td>SILVR</td>\n",
       "      <td>0.0</td>\n",
       "      <td>2008</td>\n",
       "      <td>-</td>\n",
       "      <td>0</td>\n",
       "      <td>NaN</td>\n",
       "      <td>NaN</td>\n",
       "      <td>NaN</td>\n",
       "      <td>NaN</td>\n",
       "      <td>NaN</td>\n",
       "    </tr>\n",
       "    <tr>\n",
       "      <th>4</th>\n",
       "      <td>1342296217</td>\n",
       "      <td>FYM5117</td>\n",
       "      <td>NY</td>\n",
       "      <td>SRF</td>\n",
       "      <td>09/18/1971</td>\n",
       "      <td>21</td>\n",
       "      <td>SUBN</td>\n",
       "      <td>NISSA</td>\n",
       "      <td>S</td>\n",
       "      <td>28190</td>\n",
       "      <td>...</td>\n",
       "      <td>WHITE</td>\n",
       "      <td>0.0</td>\n",
       "      <td>2012</td>\n",
       "      <td>-</td>\n",
       "      <td>0</td>\n",
       "      <td>NaN</td>\n",
       "      <td>NaN</td>\n",
       "      <td>NaN</td>\n",
       "      <td>NaN</td>\n",
       "      <td>NaN</td>\n",
       "    </tr>\n",
       "  </tbody>\n",
       "</table>\n",
       "<p>5 rows × 43 columns</p>\n",
       "</div>"
      ],
      "text/plain": [
       "   Summons Number Plate ID Registration State Plate Type  Issue Date  \\\n",
       "0      1361929741  FCJ5493                 NY        PAS  12/18/1970   \n",
       "1      1366962000  63540MC                 NY        COM  02/02/1971   \n",
       "2      1342296187  GCY4187                 NY        SRF  09/18/1971   \n",
       "3      1342296199  95V6675                 TX        PAS  09/18/1971   \n",
       "4      1342296217  FYM5117                 NY        SRF  09/18/1971   \n",
       "\n",
       "   Violation Code Vehicle Body Type Vehicle Make Issuing Agency  Street Code1  \\\n",
       "0              20              SUBN          GMC              S         35030   \n",
       "1              46              DELV        FRUEH              P         58830   \n",
       "2              21               VAN         FORD              S         11790   \n",
       "3              21               NaN          GMC              S         11790   \n",
       "4              21              SUBN        NISSA              S         28190   \n",
       "\n",
       "   ...  Vehicle Color  Unregistered Vehicle?  Vehicle Year  Meter Number  \\\n",
       "0  ...          BLACK                    0.0          2013             -   \n",
       "1  ...            BRN                    0.0          2013             -   \n",
       "2  ...           BLUE                    0.0          2002             -   \n",
       "3  ...          SILVR                    0.0          2008             -   \n",
       "4  ...          WHITE                    0.0          2012             -   \n",
       "\n",
       "   Feet From Curb  Violation Post Code  Violation Description  \\\n",
       "0               0                  NaN                    NaN   \n",
       "1               0                  NaN                    NaN   \n",
       "2               0                  NaN                    NaN   \n",
       "3               0                  NaN                    NaN   \n",
       "4               0                  NaN                    NaN   \n",
       "\n",
       "  No Standing or Stopping Violation Hydrant Violation Double Parking Violation  \n",
       "0                               NaN               NaN                      NaN  \n",
       "1                               NaN               NaN                      NaN  \n",
       "2                               NaN               NaN                      NaN  \n",
       "3                               NaN               NaN                      NaN  \n",
       "4                               NaN               NaN                      NaN  \n",
       "\n",
       "[5 rows x 43 columns]"
      ]
     },
     "execution_count": 7,
     "metadata": {},
     "output_type": "execute_result"
    }
   ],
   "source": [
    "df.head(5)"
   ]
  },
  {
   "cell_type": "code",
   "execution_count": 8,
   "id": "9d013924",
   "metadata": {},
   "outputs": [],
   "source": [
    "# 利用列を定義\n",
    "columns = [\n",
    "    'Plate ID',\n",
    "    'Registration State',\n",
    "    'Plate Type',\n",
    "    'Meter Number',\n",
    "    'Street',\n",
    "    'Vehicle Body Type',\n",
    "    'Vehicle Make',\n",
    "    'Vehicle Color'\n",
    "]"
   ]
  },
  {
   "cell_type": "code",
   "execution_count": 11,
   "id": "3376820d",
   "metadata": {},
   "outputs": [],
   "source": [
    "# 入力データの整形\n",
    "df = df[columns]\n",
    "df = df.astype('string')\n",
    "df = df[df['Meter Number'] != '-']\n",
    "df = df[df['Meter Number'].notna()]"
   ]
  },
  {
   "cell_type": "code",
   "execution_count": 12,
   "id": "53d2ceca",
   "metadata": {},
   "outputs": [],
   "source": [
    "groups = fd_violations(df, lhs='Meter Number', rhs='Street')"
   ]
  },
  {
   "cell_type": "code",
   "execution_count": 13,
   "id": "35312886",
   "metadata": {},
   "outputs": [
    {
     "name": "stdout",
     "output_type": "stream",
     "text": [
      "144-3937 2\n",
      "143-3785 2\n",
      "144-6376 2\n"
     ]
    }
   ],
   "source": [
    "# 検出結果件数の表示\n",
    "for key in groups:\n",
    "    print('{} {}'.format(key, len(groups.get(key))))"
   ]
  },
  {
   "cell_type": "code",
   "execution_count": 17,
   "id": "2ec9c1fc",
   "metadata": {},
   "outputs": [
    {
     "name": "stdout",
     "output_type": "stream",
     "text": [
      "Meter Number | Street (Count)\n",
      "=============|===============\n",
      "144-3937     | 1 x WEST 42 STREET\n",
      "             | 1 x WEST 42 ST\n",
      "-------------|---------------\n",
      "143-3785     | 2 x WEST 43RD ST\n",
      "             | 1 x WEST 43 ST\n",
      "-------------|---------------\n",
      "144-6376     | 1 x 8TH AVE\n",
      "             | 1 x 8TH AVENUE\n",
      "-------------|---------------\n"
     ]
    }
   ],
   "source": [
    "# 検出結果明細の表示\n",
    "print('Meter Number | Street (Count)')\n",
    "print('=============|===============')\n",
    "for key in groups:\n",
    "    conflicts = groups.get(key).most_common()\n",
    "    street, count = conflicts[0]\n",
    "    print('{:<12s} | {} x {}'.format(key, count, street))\n",
    "    for street, count in conflicts[1:]:\n",
    "        print('             | {} x {}'.format(count, street))\n",
    "    print('-------------|---------------')"
   ]
  },
  {
   "cell_type": "code",
   "execution_count": null,
   "id": "3dc9e2e1",
   "metadata": {},
   "outputs": [],
   "source": []
  }
 ],
 "metadata": {
  "kernelspec": {
   "display_name": "Python 3 (ipykernel)",
   "language": "python",
   "name": "python3"
  },
  "language_info": {
   "codemirror_mode": {
    "name": "ipython",
    "version": 3
   },
   "file_extension": ".py",
   "mimetype": "text/x-python",
   "name": "python",
   "nbconvert_exporter": "python",
   "pygments_lexer": "ipython3",
   "version": "3.8.13"
  }
 },
 "nbformat": 4,
 "nbformat_minor": 5
}
